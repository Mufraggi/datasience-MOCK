{
  "nbformat": 4,
  "nbformat_minor": 0,
  "metadata": {
    "colab": {
      "provenance": [],
      "toc_visible": true,
      "authorship_tag": "ABX9TyOXYeXeT3xpXXLSqIH9Rctu",
      "include_colab_link": true
    },
    "kernelspec": {
      "name": "python3",
      "display_name": "Python 3"
    },
    "language_info": {
      "name": "python"
    }
  },
  "cells": [
    {
      "cell_type": "markdown",
      "metadata": {
        "id": "view-in-github",
        "colab_type": "text"
      },
      "source": [
        "<a href=\"https://colab.research.google.com/github/Mufraggi/datasience-MOCK/blob/main/data_sience_notebook.ipynb\" target=\"_parent\"><img src=\"https://colab.research.google.com/assets/colab-badge.svg\" alt=\"Open In Colab\"/></a>"
      ]
    },
    {
      "cell_type": "markdown",
      "source": [
        "## Ingest"
      ],
      "metadata": {
        "id": "-1lWCji4JbcC"
      }
    },
    {
      "cell_type": "code",
      "execution_count": null,
      "metadata": {
        "id": "ou4IcB6BJSiW"
      },
      "outputs": [],
      "source": []
    },
    {
      "cell_type": "markdown",
      "source": [
        "## EDA"
      ],
      "metadata": {
        "id": "p-QiUrSZJj25"
      }
    },
    {
      "cell_type": "code",
      "source": [],
      "metadata": {
        "id": "PsLbZ5NqJpol"
      },
      "execution_count": null,
      "outputs": []
    },
    {
      "cell_type": "markdown",
      "source": [
        "## Modeling"
      ],
      "metadata": {
        "id": "zLteZnSjJp9u"
      }
    },
    {
      "cell_type": "code",
      "source": [],
      "metadata": {
        "id": "tQL0vHcxJsll"
      },
      "execution_count": null,
      "outputs": []
    },
    {
      "cell_type": "markdown",
      "source": [
        "### Classification Algorithm A\n"
      ],
      "metadata": {
        "id": "JLGZVqR7KA1U"
      }
    },
    {
      "cell_type": "code",
      "source": [],
      "metadata": {
        "id": "iXwDF42GKL24"
      },
      "execution_count": null,
      "outputs": []
    },
    {
      "cell_type": "markdown",
      "source": [
        "### Classification Algorithm B"
      ],
      "metadata": {
        "id": "eykRhtMyKFRz"
      }
    },
    {
      "cell_type": "code",
      "source": [],
      "metadata": {
        "id": "ArpPXCtZKKWo"
      },
      "execution_count": null,
      "outputs": []
    },
    {
      "cell_type": "markdown",
      "source": [
        "## Conclusion\n"
      ],
      "metadata": {
        "id": "41LluPLAJu-T"
      }
    },
    {
      "cell_type": "code",
      "source": [],
      "metadata": {
        "id": "PzAa2lV4JyUM"
      },
      "execution_count": null,
      "outputs": []
    }
  ]
}